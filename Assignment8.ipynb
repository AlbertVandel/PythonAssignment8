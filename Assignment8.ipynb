{
 "cells": [
  {
   "cell_type": "markdown",
   "metadata": {},
   "source": [
    "# Assignment 8\n",
    "\n",
    "## Questions\n",
    "### Part 1\n",
    "\n",
    "1. Download the file `ExtractedTweets.csv`programmatically from this website: https://www.kaggle.com/kapastor/democratvsrepublicantweets#ExtractedTweets.csv"
   ]
  },
  {
   "cell_type": "code",
   "execution_count": 3,
   "metadata": {},
   "outputs": [],
   "source": [
    "import pandas as pd\n",
    "import kaggle\n",
    "\n",
    "kaggle.api.authenticate()\n",
    "\n",
    "kaggle.api.dataset_download_files('kapastor/democratvsrepublicantweets', unzip = True)"
   ]
  },
  {
   "cell_type": "code",
   "execution_count": null,
   "metadata": {},
   "outputs": [],
   "source": [
    "filename = 'ExtractedTweets.csv'\n",
    "\n",
    "data = pd.read_csv(filename)\n",
    "\n",
    "data"
   ]
  },
  {
   "cell_type": "markdown",
   "metadata": {},
   "source": [
    "### Part 2\n",
    "\n",
    "1. Find the word distribution for each party using `CountVectorizer`\n",
    "  * Make a histogram of the top 10 most used words for each party\n",
    "2. Find the total word distribution using `CountVectorizer`\n",
    "  * Plot a histogram of the top 10 most used words in total\n"
   ]
  },
  {
   "cell_type": "code",
   "execution_count": null,
   "metadata": {},
   "outputs": [],
   "source": [
    "#2\n",
    "from sklearn.feature_extraction.text import CountVectorizer\n",
    "\n",
    "cv = CountVectorizer()\n",
    "\n",
    "cv.fit_transform(data['Tweet'])\n",
    "word_counts = cv.vocabulary_\n",
    "word_counts"
   ]
  },
  {
   "cell_type": "code",
   "execution_count": 6,
   "metadata": {},
   "outputs": [
    {
     "data": {
      "text/plain": [
       "[('𝘮𝘢𝘥𝘦', 126329),\n",
       " ('聖誕快樂', 126328),\n",
       " ('ˈbo', 126327),\n",
       " ('único', 126326),\n",
       " ('únicamente', 126325),\n",
       " ('única', 126324),\n",
       " ('últimos', 126323),\n",
       " ('último', 126322),\n",
       " ('últimas', 126321),\n",
       " ('última', 126320)]"
      ]
     },
     "execution_count": 6,
     "metadata": {},
     "output_type": "execute_result"
    }
   ],
   "source": [
    "from operator import itemgetter\n",
    "word_counts_sorted = sorted(word_counts.items(), key = itemgetter(1), reverse=True)\n",
    "word_counts_sorted[0:10]"
   ]
  },
  {
   "cell_type": "code",
   "execution_count": 8,
   "metadata": {},
   "outputs": [
    {
     "data": {
      "text/plain": [
       "<matplotlib.axes._subplots.AxesSubplot at 0x19e725f75c0>"
      ]
     },
     "execution_count": 8,
     "metadata": {},
     "output_type": "execute_result"
    },
    {
     "data": {
      "image/png": "[encoded data removed]",
      "text/plain": [
       "<Figure size 432x288 with 1 Axes>"
      ]
     },
     "metadata": {
      "needs_background": "light"
     },
     "output_type": "display_data"
    }
   ],
   "source": [
    "#from matplotlib import pyplot\n",
    "df = pd.DataFrame(word_counts_sorted[:10], columns = ['word', \"frequency\"])\n",
    "df.plot(kind='bar', x='word')"
   ]
  },
  {
   "cell_type": "markdown",
   "metadata": {},
   "source": [
    "### Part 3\n",
    "\n",
    "1. Plot the number of tweets over time, so that time is on the x-axis and number of tweets is on the y-axis.\n",
    "2. Find the biggest peak in tweets and find out what they were tweeting about: is there a big event that made everyone push a tweet? Hand-in a description of what happened and a link to a larger news site (BBC/CNN/Times/etc.)"
   ]
  },
  {
   "cell_type": "code",
   "execution_count": null,
   "metadata": {},
   "outputs": [],
   "source": []
  },
  {
   "cell_type": "markdown",
   "metadata": {},
   "source": [
    "## Review Questions\n",
    "\n",
    "### Part 1\n",
    "\n",
    "Is the data correctly and automatically downloaded?\n",
    "\n",
    "### Part 2\n",
    "\n",
    "Is the `CountVectorizer` used correctly?\n",
    "Are the histogram correctly made and do they have labelled axes?\n",
    "\n",
    "### Part 3\n",
    "\n",
    "Are the tweets correctly counted over time?\n",
    "Does the plot correctly show the tweet count over time and does it include axes labels?"
   ]
  },
  {
   "cell_type": "code",
   "execution_count": null,
   "metadata": {},
   "outputs": [],
   "source": []
  }
 ],
 "metadata": {
  "kernelspec": {
   "display_name": "Python 3",
   "language": "python",
   "name": "python3"
  },
  "language_info": {
   "codemirror_mode": {
    "name": "ipython",
    "version": 3
   },
   "file_extension": ".py",
   "mimetype": "text/x-python",
   "name": "python",
   "nbconvert_exporter": "python",
   "pygments_lexer": "ipython3",
   "version": "3.7.1"
  }
 },
 "nbformat": 4,
 "nbformat_minor": 2
}
