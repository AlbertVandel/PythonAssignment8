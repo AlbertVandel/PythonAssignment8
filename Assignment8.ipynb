{
 "cells": [
  {
   "cell_type": "markdown",
   "metadata": {},
   "source": [
    "# Assignment 8\n",
    "\n",
    "## Questions\n",
    "### Part 1\n",
    "\n",
    "1. Download the file `ExtractedTweets.csv`programmatically from this website: https://www.kaggle.com/kapastor/democratvsrepublicantweets#ExtractedTweets.csv"
   ]
  },
  {
   "cell_type": "code",
   "execution_count": null,
   "metadata": {},
   "outputs": [],
   "source": []
  },
  {
   "cell_type": "markdown",
   "metadata": {},
   "source": [
    "### Part 2\n",
    "\n",
    "1. Find the word distribution for each party using `CountVectorizer`\n",
    "  * Make a histogram of the top 10 most used words for each party\n",
    "2. Find the total word distribution using `CountVectorizer`\n",
    "  * Plot a histogram of the top 10 most used words in total\n"
   ]
  },
  {
   "cell_type": "code",
   "execution_count": null,
   "metadata": {},
   "outputs": [],
   "source": []
  },
  {
   "cell_type": "markdown",
   "metadata": {},
   "source": [
    "### Part 3\n",
    "\n",
    "1. Plot the number of tweets over time, so that time is on the x-axis and number of tweets is on the y-axis.\n",
    "2. Find the biggest peak in tweets and find out what they were tweeting about: is there a big event that made everyone push a tweet? Hand-in a description of what happened and a link to a larger news site (BBC/CNN/Times/etc.)"
   ]
  },
  {
   "cell_type": "code",
   "execution_count": null,
   "metadata": {},
   "outputs": [],
   "source": []
  }
 ],
 "metadata": {
  "kernelspec": {
   "display_name": "Python 3",
   "language": "python",
   "name": "python3"
  },
  "language_info": {
   "codemirror_mode": {
    "name": "ipython",
    "version": 3
   },
   "file_extension": ".py",
   "mimetype": "text/x-python",
   "name": "python",
   "nbconvert_exporter": "python",
   "pygments_lexer": "ipython3",
   "version": "3.7.1"
  }
 },
 "nbformat": 4,
 "nbformat_minor": 2
}
